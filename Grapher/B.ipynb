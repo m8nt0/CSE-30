{
 "cells": [
  {
   "cell_type": "code",
   "execution_count": null,
   "metadata": {},
   "outputs": [],
   "source": [
    "class Graph(object):\n",
    "    def __init__(self, vertices=None, edges=None):\n",
    "        self.vertices = set(vertices or [])\n",
    "        self.edges = set(edges or [])\n",
    "\n",
    "    def show(self):\n",
    "        g = nx.DiGraph()\n",
    "        g.add_nodes_from(self.vertices)\n",
    "        g.add_edges_from(self.edges)\n",
    "        nx.draw(g, with_labels=True)\n",
    "\n",
    "    @property\n",
    "    def is_tree(self):\n",
    "        if len(self.edges) != len(self.vertices) - 1:\n",
    "            return False\n",
    "\n",
    "        incoming_count = {}\n",
    "        for vertex in self.vertices:\n",
    "            incoming_count[vertex] = 0\n",
    "\n",
    "        for edge in self.edges:\n",
    "            _, dest = edge\n",
    "            incoming_count[dest] += 1\n",
    "\n",
    "        root_count = 0\n",
    "        for count in incoming_count.values():\n",
    "            if count == 0:\n",
    "                root_count += 1\n",
    "            elif count != 1:\n",
    "                return False\n",
    "\n",
    "        return root_count == 1\n",
    "        \n",
    "g = Graph(vertices={'a', 'b', 'c', 'd', 'e', 'f', 'g'},\n",
    "          edges={('a', 'b'), ('a', 'c'), ('a', 'd'), ('b', 'd'),\n",
    "                 ('c', 'a'), ('c', 'e'), ('d', 'b'), ('d', 'c'),\n",
    "                 ('f', 'g'), ('g', 'f')})\n",
    "\n",
    "print(g.is_tree)  # False\n",
    "\n",
    "# Removing an edge to make it a tree\n",
    "g.edges.remove(('d', 'c'), ('c', 'a'), ('b', 'd'), ('d', 'b'))\n",
    "print(g.is_tree)  # True"
   ]
  }
 ],
 "metadata": {
  "language_info": {
   "name": "python"
  }
 },
 "nbformat": 4,
 "nbformat_minor": 2
}
